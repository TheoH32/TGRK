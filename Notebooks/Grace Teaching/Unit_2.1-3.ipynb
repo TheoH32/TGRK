{
 "cells": [
  {
   "cell_type": "markdown",
   "metadata": {},
   "source": [
    "## Unit 2.1- Objects: Instances of Classes\n",
    "\n",
    "#### What are objects?\n",
    "\n",
    "#### What are classes?\n",
    "\n",
    "\n",
    "\n",
    "#### Learning Objectives\n",
    "\n",
    "- Explain the relationship between a class and an object.\n",
    "\n",
    "#### Essential Knowledge\n",
    "\n",
    "- An object is a specific instance of a class with defined attributes.\n",
    "- A class is the formal implementation, or blueprint, of the attributes and behaviors of an object. \n",
    "\n"
   ]
  },
  {
   "cell_type": "markdown",
   "metadata": {},
   "source": [
    "## Unit 2.2- Creating and Storing Objects (Instantiation)"
   ]
  },
  {
   "cell_type": "markdown",
   "metadata": {},
   "source": [
    "## Unit 2.3- Calling a Void Method"
   ]
  },
  {
   "cell_type": "code",
   "execution_count": null,
   "metadata": {},
   "outputs": [],
   "source": []
  }
 ],
 "metadata": {
  "language_info": {
   "name": "python"
  },
  "orig_nbformat": 4
 },
 "nbformat": 4,
 "nbformat_minor": 2
}
