{
 "cells": [
  {
   "cell_type": "markdown",
   "metadata": {},
   "source": [
    "---\n",
    "layout: post\n",
    "title: \"2D Array\"\n",
    "date: 2019-04-14 14:46:10 +03:00\n",
    "description: \"This is meta description\"\n",
    "featured: true\n",
    "image: \"assets/images/featured-post/2d.jpg\"\n",
    "categories: \n",
    "  - \"Theo\"\n",
    "---"
   ]
  },
  {
   "cell_type": "markdown",
   "metadata": {},
   "source": [
    "# The FRQ - 2022 #4\n",
    "\n",
    "<div class=\"images\">\n",
    "  <img src=\"https://raw.githubusercontent.com/TheoH32/TGRK/main/assets/images/theoFRQ/problem.png\">\n",
    "</div>\n",
    "\n",
    "## Understanding the situation\n",
    "**public static final int MAX = /*value not shown*/;**\n",
    "- the interger value is not given as its not relevant to the solution\n",
    "- **public** ---> means that anywere else in the code can this variable be accessed\n",
    "- **static** ---> means there is only one time that the variable is created and it is shared by all instances of the class\n",
    "- **final** ---> means that the value cannot be changed and is constant. \n",
    "- **int** ---> means that the variable is an integer\n",
    "- **MAX** ---> name of the variable (for referencing a MAX number)\n",
    "\n",
    "**private int[][] grid;** \n",
    "- Typically \"int[][]\" is defined by numbers like \"int[3][3];\" which means that the 2D array \"grid\" has 3 rows and 3 columns. However, in this case, the size of the 2D array is not given as that is part of our assignment.\n",
    "- **private** ---> this means that the variable \"grid\" is only accessible within the class it is declared in. \n",
    "- **int[][]** ---> means that the variable \"grid\" is a 2D array of integers. \n",
    "- **grid** ---> is the name of the variable. \n",
    "\n",
    "**public void repopulate()** is what our task is. \n",
    "- Our task is to write the code for the method that fills the grid with random integers between 1 and MAX inclusive.\n",
    "- **public** ---> means that the method \"repopulate()\" is accessible to other classes. \n",
    "- **void** ---> means that the method \"repopulate()\" does not return a value. \n",
    "- **repopulate()** ---> is the name of the method. \n",
    "\n",
    "<div class=\"images\">\n",
    "  <img src=\"https://raw.githubusercontent.com/TheoH32/TGRK/main/assets/images/theoFRQ/problem2.png\">\n",
    "</div>\n",
    "\n",
    "**public int countIncreasingCols()** is a second method that we are tasked to code. \n",
    "- It should return the number of cloumns in the \"grid\" variable that are in increasing order. For example, if the \"grid\" variable is ((1, 2, 3), (4, 5, 6), (7, 8, 9)), then the method should return 3 as all the columns are in increasing order. If the \"grid\" variable is ((1, 2, 3), (4, 5, 6), (9, 8, 7)), then the method should return 2 as only the first two columns are in increasing order.\n",
    "\n",
    "<br>\n",
    "<br>"
   ]
  },
  {
   "cell_type": "code",
   "execution_count": 3,
   "metadata": {
    "vscode": {
     "languageId": "java"
    }
   },
   "outputs": [],
   "source": [
    "public class Data {\n",
    "    // 100 is just a random number so it runs\n",
    "    public static final int MAX = 100;\n",
    "    public int [][] grid;\n",
    "}"
   ]
  },
  {
   "cell_type": "markdown",
   "metadata": {},
   "source": [
    "# Part A\n",
    "\n",
    "<div class=\"images\">\n",
    "  <img src=\"https://raw.githubusercontent.com/TheoH32/TGRK/main/assets/images/theoFRQ/partA.png\">\n",
    "    <img src=\"https://raw.githubusercontent.com/TheoH32/TGRK/main/assets/images/theoFRQ/partA2.png\">\n",
    "</div>"
   ]
  },
  {
   "cell_type": "code",
   "execution_count": 4,
   "metadata": {
    "vscode": {
     "languageId": "java"
    }
   },
   "outputs": [],
   "source": [
    "// public means it can be called on throughout the program\n",
    "// void means it will not return anything\n",
    "public void repopulate() {\n",
    "    // purpose: repopulate the grid with random values\n",
    "    // code below traverse the grid and repopulates each cell\n",
    "    for (int row = 0; row < grid.length; row++) {\n",
    "        for (int col = 0; col < grid[0].length; col++) {\n",
    "            // rval is an integer in the range [1, MAX]\n",
    "            int rval = (int) (Math.random() * MAX) + 1;\n",
    "            \n",
    "            // Ensure rval is divisible by 10 but not divisible by 100\n",
    "            while (rval % 10 != 0 || rval % 100 == 0) {\n",
    "                rval = (int) (Math.random() * MAX) + 1;\n",
    "            }\n",
    "            \n",
    "            // assign rval to the current cell\n",
    "            grid[row][col] = rval;\n",
    "        }\n",
    "    }\n",
    "}"
   ]
  },
  {
   "cell_type": "markdown",
   "metadata": {},
   "source": [
    "<div class=\"images\">\n",
    "  <img src=\"https://raw.githubusercontent.com/TheoH32/TGRK/main/assets/images/theoFRQ/partB.png\">\n",
    "</div>"
   ]
  },
  {
   "cell_type": "code",
   "execution_count": 5,
   "metadata": {
    "vscode": {
     "languageId": "java"
    }
   },
   "outputs": [],
   "source": [
    "// public means it can be called on throughout the program\n",
    "// int in the method means that it will return an integer\n",
    "public int countIncreasingCols() {\n",
    "    // purpose: count the number of columns that are increasing\n",
    "\n",
    "    // count is set to 0\n",
    "    int count = 0;\n",
    "    // this loop traverses the columns\n",
    "    for (int col = 0; col < grid[0].length; col++) {\n",
    "        // ordered is set to true by default, but will be set to false if the column is not ordered\n",
    "        boolean ordered = true;\n",
    "        // catching the error if the column is not ordered\n",
    "        for (int row = 1; row < grid.length; row++) {\n",
    "            if (grid[row][col] < grid[row - 1][col]) {\n",
    "                // set to false\n",
    "                ordered = false;\n",
    "            }\n",
    "        }\n",
    "        // if there is no error, boolen stays true and count adds 1\n",
    "        if (ordered) {\n",
    "            count++;\n",
    "        }\n",
    "    }\n",
    "    // returns the count\n",
    "    return count;\n",
    "}"
   ]
  },
  {
   "cell_type": "markdown",
   "metadata": {},
   "source": [
    "# Result\n"
   ]
  },
  {
   "cell_type": "code",
   "execution_count": 54,
   "metadata": {
    "vscode": {
     "languageId": "java"
    }
   },
   "outputs": [],
   "source": [
    "public class DataOutput {\n",
    "    public static void main(String[] args) {\n",
    "        // Create an instance of the Data class\n",
    "        Data data = new Data();\n",
    "\n",
    "        // Call the repopulate method to populate the grid with random values\n",
    "        data.repopulate();\n",
    "\n",
    "        // Call the countIncreasingCols method to count the number of increasing columns\n",
    "        int increasingColsCount = data.countIncreasingCols();\n",
    "\n",
    "        // Print the grid (optional)\n",
    "        printGrid(data.grid);\n",
    "\n",
    "        // Print the number of increasing columns\n",
    "        System.out.println(\"Number of increasing columns: \" + increasingColsCount);\n",
    "    }\n",
    "\n",
    "    // Helper method to print the grid (optional)\n",
    "    private static void printGrid(int[][] grid) {\n",
    "        for (int row = 0; row < grid.length; row++) {\n",
    "            for (int col = 0; col < grid[0].length; col++) {\n",
    "                System.out.print(grid[row][col] + \" \");\n",
    "            }\n",
    "            System.out.println();\n",
    "        }\n",
    "    }\n",
    "}\n",
    "\n",
    "public class Data {\n",
    "    // PROVIDED CODE\n",
    "    // I put 100 there bc code would give error if I didn't, however follow the instructions and assume it has no value\n",
    "    public static final int MAX = 100;\n",
    "    public int [][] grid;\n",
    "\n",
    "    // Instantiates the grid for testing\n",
    "    public Data() {\n",
    "        grid = new int[3][3];\n",
    "    }\n",
    "\n",
    "\n",
    "\n",
    "\n",
    "    // PART A\n",
    "\n",
    "    // public means it can be called on throughout the program\n",
    "    // void means it will not return anything\n",
    "    public void repopulate() {\n",
    "        // purpose: repopulate the grid with random values\n",
    "        // code below traverse the grid and repopulates each cell\n",
    "        for (int row = 0; row < grid.length; row++) {\n",
    "            for (int col = 0; col < grid[0].length; col++) {\n",
    "                // rval is an integer in the range [1, MAX]\n",
    "                int rval = (int) (Math.random() * MAX) + 1;\n",
    "                \n",
    "                // Ensure rval is divisible by 10 but not divisible by 100\n",
    "                while (rval % 10 != 0 || rval % 100 == 0) {\n",
    "                    rval = (int) (Math.random() * MAX) + 1;\n",
    "                }\n",
    "                \n",
    "                // assign rval to the current cell\n",
    "                grid[row][col] = rval;\n",
    "            }\n",
    "        }\n",
    "    }\n",
    "\n",
    "\n",
    "\n",
    "    //----------------------------------------------------------------------------------\n",
    "\n",
    "\n",
    "\n",
    "    // PART B\n",
    "\n",
    "    // public means it can be called on throughout the program\n",
    "    // int in the method means that it will return an integer\n",
    "    public int countIncreasingCols() {\n",
    "        // purpose: count the number of columns that are increasing\n",
    "\n",
    "        // count is set to 0\n",
    "        int count = 0;\n",
    "        // this loop traverses the columns\n",
    "        for (int col = 0; col < grid[0].length; col++) {\n",
    "            // ordered is set to true by default, but will be set to false if the column is not ordered\n",
    "            boolean ordered = true;\n",
    "            // catching the condition if the column is not ordered\n",
    "            for (int row = 1; row < grid.length; row++) {\n",
    "                if (grid[row][col] < grid[row - 1][col]) {\n",
    "                    // set to false\n",
    "                    ordered = false;\n",
    "                }\n",
    "            }\n",
    "            // if there is no condition, boolen stays true and count adds 1\n",
    "            if (ordered) {\n",
    "                count++;\n",
    "            }\n",
    "        }\n",
    "        // returns the count\n",
    "        return count;\n",
    "    }\n",
    "}"
   ]
  },
  {
   "cell_type": "code",
   "execution_count": 60,
   "metadata": {
    "vscode": {
     "languageId": "java"
    }
   },
   "outputs": [
    {
     "name": "stdout",
     "output_type": "stream",
     "text": [
      "90 10 10 \n",
      "10 50 10 \n",
      "20 70 50 \n",
      "Number of increasing columns: 2\n"
     ]
    }
   ],
   "source": [
    "DataOutput.main(null);"
   ]
  }
 ],
 "metadata": {
  "kernelspec": {
   "display_name": "Java",
   "language": "java",
   "name": "java"
  },
  "language_info": {
   "codemirror_mode": "java",
   "file_extension": ".jshell",
   "mimetype": "text/x-java-source",
   "name": "Java",
   "pygments_lexer": "java",
   "version": "20.0.2"
  },
  "orig_nbformat": 4
 },
 "nbformat": 4,
 "nbformat_minor": 2
}
