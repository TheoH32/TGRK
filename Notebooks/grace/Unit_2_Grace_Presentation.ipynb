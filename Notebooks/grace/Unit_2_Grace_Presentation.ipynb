{
 "cells": [
  {
   "cell_type": "markdown",
   "metadata": {},
   "source": [
    "## Unit 2.1- Objects: Instances of Classes\n",
    "\n",
    "#### What are objects?\n",
    "\n",
    "An Object is created from a class by calling the class constructor. \n",
    "\n",
    "#### What are classes?\n",
    "\n",
    "A Class is a template that defines an object is like and what it can do. \n",
    "\n",
    "#### Objects are Instances of Classes\n",
    "\n",
    "For example, if the class is a blueprint for a house, the object is a particular house. \n",
    "\n"
   ]
  },
  {
   "cell_type": "markdown",
   "metadata": {},
   "source": [
    "#### Example\n",
    "\n",
    "Here is an example of creating a Student class in Java. It contains instance variables that define the characteristics of a student."
   ]
  },
  {
   "cell_type": "code",
   "execution_count": 4,
   "metadata": {
    "vscode": {
     "languageId": "java"
    }
   },
   "outputs": [],
   "source": [
    "public class Student {\n",
    "\n",
    "    // instance variables\n",
    "    String name;\n",
    "    String teacher;\n",
    "    int period;\n",
    "  \n",
    "    // constructor\n",
    "    public Student(String name, String teacher, int period) {\n",
    "      this.name = name;\n",
    "      this.teacher = teacher;\n",
    "      this.period = period;\n",
    "    }\n",
    "  }"
   ]
  },
  {
   "cell_type": "markdown",
   "metadata": {},
   "source": [
    "Now, using our class, we can create student objects by initializing two students"
   ]
  },
  {
   "cell_type": "code",
   "execution_count": 5,
   "metadata": {
    "vscode": {
     "languageId": "java"
    }
   },
   "outputs": [],
   "source": [
    "Student grace = new Student(\"Grace\", \"Mr. Mort\", 3);\n",
    "Student alice = new Student(\"Alice\", \"Mr. Mort\", 1);"
   ]
  },
  {
   "cell_type": "markdown",
   "metadata": {},
   "source": [
    "We can printout information about each student"
   ]
  },
  {
   "cell_type": "code",
   "execution_count": 6,
   "metadata": {
    "vscode": {
     "languageId": "java"
    }
   },
   "outputs": [
    {
     "name": "stdout",
     "output_type": "stream",
     "text": [
      "Grace\n"
     ]
    }
   ],
   "source": [
    "System.out.println(grace.name);"
   ]
  },
  {
   "cell_type": "code",
   "execution_count": 7,
   "metadata": {
    "vscode": {
     "languageId": "java"
    }
   },
   "outputs": [
    {
     "name": "stdout",
     "output_type": "stream",
     "text": [
      "1\n"
     ]
    }
   ],
   "source": [
    "System.out.println(alice.period);"
   ]
  },
  {
   "cell_type": "markdown",
   "metadata": {},
   "source": [
    "#### Learning Objectives\n",
    "\n",
    "- Explain the relationship between a class and an object.\n",
    "\n",
    "#### Essential Knowledge\n",
    "\n",
    "- An object is a specific instance of a class with defined attributes.\n",
    "- A class is the formal implementation, or blueprint, of the attributes and behaviors of an object. "
   ]
  },
  {
   "cell_type": "markdown",
   "metadata": {},
   "source": [
    "## Unit 2.2- Creating and Storing Objects (Instantiation)"
   ]
  },
  {
   "cell_type": "markdown",
   "metadata": {},
   "source": [
    "## Unit 2.3- Calling a Void Method"
   ]
  },
  {
   "cell_type": "code",
   "execution_count": null,
   "metadata": {
    "vscode": {
     "languageId": "java"
    }
   },
   "outputs": [],
   "source": []
  }
 ],
 "metadata": {
  "kernelspec": {
   "display_name": "Java",
   "language": "java",
   "name": "java"
  },
  "language_info": {
   "codemirror_mode": "java",
   "file_extension": ".jshell",
   "mimetype": "text/x-java-source",
   "name": "Java",
   "pygments_lexer": "java",
   "version": "20.0.2+9-78"
  },
  "orig_nbformat": 4
 },
 "nbformat": 4,
 "nbformat_minor": 2
}
